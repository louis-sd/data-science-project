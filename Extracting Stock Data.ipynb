{
 "cells": [
  {
   "cell_type": "markdown",
   "metadata": {},
   "source": [
    "# Extracting and Visualizing Stock Data"
   ]
  },
  {
   "cell_type": "markdown",
   "metadata": {},
   "source": [
    "### Description\n",
    "\n",
    "Extracting essential data from a dataset and displaying it is a necessary part of data science, from which individuals can make appropriate decisions based on data. In this notebook, I am showing how to extract financial data in two different ways :\n",
    "- the *yfinance* API to retieve data from Yahoo Finance\n",
    "- webscraping internet pages using the *BeautifulSoup* library"
   ]
  },
  {
   "cell_type": "code",
   "execution_count": null,
   "metadata": {},
   "outputs": [],
   "source": [
    "#Install the required libraries\n",
    "!pip install yfinance\n",
    "!pip install pandas\n",
    "!pip install requests\n",
    "!pip install bs4\n",
    "!pip install plotly"
   ]
  },
  {
   "cell_type": "code",
   "execution_count": null,
   "metadata": {},
   "outputs": [],
   "source": [
    "#Import the functions you need\n",
    "import yfinance as yf \n",
    "import pandas as pd\n",
    "import requests\n",
    "from bs4 import BeautifulSoup\n",
    "import plotly.graph_objects as go\n",
    "from plotly.subplots import make_subplots"
   ]
  },
  {
   "cell_type": "markdown",
   "metadata": {},
   "source": [
    "### Extracting Stock Data using yfinance"
   ]
  },
  {
   "cell_type": "markdown",
   "metadata": {},
   "source": [
    "YFinance was created to help the programs and users who were relying on the historical **Yahoo Finance API** after its closure. It solves the problem by allowing users to download data using python and it has some great features which also makes it favourable to use for stock data analysis. YFinance not only downloads **the Stock Price data** it also allows us to download **all the financial data of a Company** since its listing in the stock market. It’s easy to use and is blazingly fast. This library is pretty famous for Financial Data Analysis. "
   ]
  },
  {
   "cell_type": "markdown",
   "metadata": {},
   "source": [
    "The `Ticker` module allows to access ticker data using python. See all features and attributes at [yfinance](https://pypi.org/project/yfinance/)."
   ]
  },
  {
   "cell_type": "code",
   "execution_count": null,
   "metadata": {},
   "outputs": [],
   "source": [
    "tesla = yf.Ticker('TSLA')\n",
    "gme = yf.Ticker('GME')"
   ]
  },
  {
   "cell_type": "markdown",
   "metadata": {},
   "source": [
    "Pass the function `.history()` to your ticker object to extract stock information and save it in a DataFrame. Set the period using the *period* parameter or *start* and *end*."
   ]
  },
  {
   "cell_type": "code",
   "execution_count": null,
   "metadata": {},
   "outputs": [],
   "source": [
    "tesla_data = tesla.history(period = 'max')\n",
    "gme_data = gme.history(start = '2002-02-13', end = '2021-06-14')"
   ]
  },
  {
   "cell_type": "code",
   "execution_count": null,
   "metadata": {},
   "outputs": [],
   "source": [
    "#Display the first rows of your DataFrames\n",
    "print(tesla_data.head())\n",
    "print(gme_data.head())"
   ]
  },
  {
   "cell_type": "code",
   "execution_count": null,
   "metadata": {},
   "outputs": [],
   "source": [
    "#Reset the index of your DataFrames\n",
    "tesla_data.reset_index(inplace = True)\n",
    "gme_data.reset_index(inplace = True)"
   ]
  },
  {
   "cell_type": "markdown",
   "metadata": {},
   "source": [
    "### Webscraping to extract Revenue Data with BeautifulSoup"
   ]
  },
  {
   "cell_type": "markdown",
   "metadata": {},
   "source": [
    "BeautifulSoup is a Python library for pulling data out of HTML and XML files. There are a lot of very useful attributes you can pass to a BeautfilSoup object such as `.prettify()`, `.title`, `.find_all()` ... \n",
    "See all features at [BeautifulSoup](https://www.crummy.com/software/BeautifulSoup/bs4/doc/) .\n",
    "In this part, we are using BeautifulSoup in order to extract revenue data from the *macrotrends.com* website."
   ]
  },
  {
   "cell_type": "markdown",
   "metadata": {},
   "source": [
    "Use the requests library to download the webpages :\n",
    "- https://www.macrotrends.net/stocks/charts/TSLA/tesla/revenue\n",
    "- https://www.macrotrends.net/stocks/charts/GME/gamestop/revenue"
   ]
  },
  {
   "cell_type": "code",
   "execution_count": null,
   "metadata": {},
   "outputs": [],
   "source": [
    "url_tesla = 'https://www.macrotrends.net/stocks/charts/TSLA/tesla/revenue'\n",
    "url_gme = 'https://www.macrotrends.net/stocks/charts/GME/gamestop/revenue'\n",
    "\n",
    "#The requests library collects the HTML Data\n",
    "tesla_html_data = requests.get(url_tesla)\n",
    "gme_html_data = requests.get(url_gme)"
   ]
  },
  {
   "cell_type": "code",
   "execution_count": null,
   "metadata": {},
   "outputs": [],
   "source": [
    "# If you want to use another parser for the following part, you might need to download it\n",
    "# !pip install html5lib"
   ]
  },
  {
   "cell_type": "code",
   "execution_count": null,
   "metadata": {
    "scrolled": true
   },
   "outputs": [],
   "source": [
    "#Parse the html data (.text to use the content) using BeautifulSoup\n",
    "tesla_soup = BeautifulSoup(tesla_html_data.text, 'html.parser')\n",
    "gme_soup = BeautifulSoup(gme_html_data.text, 'html.parser')"
   ]
  },
  {
   "cell_type": "markdown",
   "metadata": {},
   "source": [
    "We want to retrieve the \"Quarterly Revenue\" table from the webpages and store it in a DataFrame.\\\n",
    "(Basic knowledge of HTML is required)"
   ]
  },
  {
   "cell_type": "code",
   "execution_count": null,
   "metadata": {
    "scrolled": true
   },
   "outputs": [],
   "source": [
    "#Create a DataFrame to store the values\n",
    "tesla_revenue = pd.DataFrame(columns = [\"Date\", \"Revenue\"])\n",
    "\n",
    "#Search for the \"Quarterly Revenue\" table in the soup object\n",
    "for table in tesla_soup.find_all(\"table\"):\n",
    "    if table.thead.th.text == \"Tesla Quarterly Revenue(Millions of US $)\":\n",
    "        tesla_qr = table\n",
    "        \n",
    "#Copy all the rows of the table into the DataFrame\n",
    "for row in tesla_qr.find('tbody').find_all('tr'):\n",
    "    col = row.find_all('td')\n",
    "    date = col[0].text\n",
    "    revenue = col[1].text\n",
    "    \n",
    "    #Remove the $ sign and the comma from the values\n",
    "    tesla_revenue = tesla_revenue.append({\"Date\" : date, \"Revenue\" : revenue[1:].replace(',', '')}, ignore_index=True)\n",
    "\n",
    "tesla_revenue"
   ]
  },
  {
   "cell_type": "markdown",
   "metadata": {},
   "source": [
    "It appears that some values are missing on rows 45 and 48. We are removing them from the DataFrame."
   ]
  },
  {
   "cell_type": "code",
   "execution_count": null,
   "metadata": {},
   "outputs": [],
   "source": [
    "index_to_drop = []\n",
    "for i in range(tesla_revenue.shape[0]):\n",
    "    if tesla_revenue['Revenue'][i] == '':\n",
    "        index_to_drop.append(i)\n",
    "        \n",
    "tesla_revenue = tesla_revenue.drop(index_to_drop)\n",
    "tesla_revenue.tail()\n",
    "\n",
    "#Alternative version (much more efficient but less intuitive)\n",
    "tesla_revenue = tesla_revenue[tesla_revenue['Revenue'] != \"\"]\n",
    "\n",
    "#Reset the index and display the last rows of the Dataframe\n",
    "tesla_revenue.reset_index(inplace = True)\n",
    "tesla_revenue.tail()"
   ]
  },
  {
   "cell_type": "code",
   "execution_count": null,
   "metadata": {},
   "outputs": [],
   "source": [
    "#Repeat the process for GME\n",
    "gme_revenue = pd.DataFrame(columns = [\"Date\", \"Revenue\"])\n",
    "\n",
    "for table in gme_soup.find_all('table'):\n",
    "    if table.thead.th.text == \"GameStop Quarterly Revenue(Millions of US $)\":\n",
    "        gme_qr = table\n",
    "\n",
    "for row in gme_qr.find('tbody').find_all('tr'):\n",
    "    col = row.find_all('td')\n",
    "    date = col[0].text\n",
    "    revenue = col[1].text\n",
    "    \n",
    "    gme_revenue = gme_revenue.append({\"Date\" : date, \"Revenue\" : revenue[1:].replace(',', '')}, ignore_index = True)\n",
    "\n",
    "#Change the displaying options of pandas to see the full DataFrame\n",
    "pd.set_option(\"display.max_rows\", None, \"display.max_columns\", None)\n",
    "gme_revenue"
   ]
  },
  {
   "cell_type": "markdown",
   "metadata": {},
   "source": [
    "It seems like there are no missing values. \n",
    "We are done extracting the Data."
   ]
  },
  {
   "cell_type": "markdown",
   "metadata": {},
   "source": [
    "### Visualizing Stock Data\n",
    "\n",
    "We define a very simple `plot_graph` function in order to visualize our data. It takes 2 DataFrames as inputs `stock_data` and `revenue_data` as well as the name of the stock."
   ]
  },
  {
   "cell_type": "code",
   "execution_count": null,
   "metadata": {},
   "outputs": [],
   "source": [
    "def plot_graph(stock_data, revenue_data, stock):\n",
    "    fig = make_subplots(rows=2, cols=1, shared_xaxes=True, subplot_titles=(\"Historical Share Price\", \"Historical Revenue\"), vertical_spacing = .3)\n",
    "    fig.add_trace(go.Scatter(x=pd.to_datetime(stock_data.Date, infer_datetime_format=True), y=stock_data.Close.astype(\"float\"), name=\"Share Price\"), row=1, col=1)\n",
    "    fig.add_trace(go.Scatter(x=pd.to_datetime(revenue_data.Date, infer_datetime_format=True), y=revenue_data.Revenue.astype(\"float\"), name=\"Revenue\"), row=2, col=1)\n",
    "    fig.update_xaxes(title_text=\"Date\", row=1, col=1)\n",
    "    fig.update_xaxes(title_text=\"Date\", row=2, col=1)\n",
    "    fig.update_yaxes(title_text=\"Price ($US)\", row=1, col=1)\n",
    "    fig.update_yaxes(title_text=\"Revenue ($US Millions)\", row=2, col=1)\n",
    "    fig.update_layout(showlegend=False,\n",
    "    height=900,\n",
    "    title=stock,\n",
    "    xaxis_rangeslider_visible=True)\n",
    "    fig.show()"
   ]
  },
  {
   "cell_type": "code",
   "execution_count": null,
   "metadata": {},
   "outputs": [],
   "source": [
    "#Plot the Tesla Stock and Revenue graphs\n",
    "plot_graph(tesla_data, tesla_revenue, 'Tesla Stock Data')"
   ]
  },
  {
   "cell_type": "code",
   "execution_count": null,
   "metadata": {},
   "outputs": [],
   "source": [
    "#Plot the GME Stock and Revenue graphs\n",
    "plot_graph(gme_data, gme_revenue, 'GME Stock Data')"
   ]
  },
  {
   "cell_type": "markdown",
   "metadata": {},
   "source": [
    "#### Change Log\n",
    "\n",
    "| Date (YYYY-MM-DD) | Version | Changed By    | Change Description        |\n",
    "| ----------------- | ------- | ------------- | ------------------------- |\n",
    "| 2021-06-15        | 1.0     | Louis Sichel-Dulong | Added to Github       |\n"
   ]
  }
 ],
 "metadata": {
  "kernelspec": {
   "display_name": "Python 3",
   "language": "python",
   "name": "python3"
  },
  "language_info": {
   "codemirror_mode": {
    "name": "ipython",
    "version": 3
   },
   "file_extension": ".py",
   "mimetype": "text/x-python",
   "name": "python",
   "nbconvert_exporter": "python",
   "pygments_lexer": "ipython3",
   "version": "3.6.8"
  }
 },
 "nbformat": 4,
 "nbformat_minor": 4
}
